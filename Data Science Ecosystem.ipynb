{
 "cells": [
  {
   "cell_type": "markdown",
   "id": "194f54a7",
   "metadata": {},
   "source": [
    "# Data Science Tools and Ecosystems\n"
   ]
  },
  {
   "cell_type": "markdown",
   "id": "38218c5b",
   "metadata": {},
   "source": [
    "In this notebook, Data Science Tools and Ecosystems are summurized."
   ]
  },
  {
   "cell_type": "markdown",
   "id": "a560d709",
   "metadata": {},
   "source": [
    "Some of the popular languages that Data Scientists use are:\n",
    "- Phyton\n",
    "- R\n",
    "- julia"
   ]
  },
  {
   "cell_type": "markdown",
   "id": "6e8d20e8",
   "metadata": {},
   "source": [
    "Some of the commonly used libraries used by Data Scientists include:\n",
    "- Pandas\n",
    "- NumPy\n",
    "- Matplotlib"
   ]
  },
  {
   "cell_type": "markdown",
   "id": "531c8e1f",
   "metadata": {},
   "source": [
    "| Data Science Tools|\n",
    "|-------------------|\n",
    "|Jupyter Notebook   |\n",
    "|RStudio            |\n",
    "|Spyder             |"
   ]
  },
  {
   "cell_type": "markdown",
   "id": "23ab25a6",
   "metadata": {},
   "source": [
    "### Below are a few examples of evaluating arithmetic expressions in Python\n",
    "\n",
    " "
   ]
  },
  {
   "cell_type": "code",
   "execution_count": 4,
   "id": "3f979083",
   "metadata": {},
   "outputs": [
    {
     "name": "stdout",
     "output_type": "stream",
     "text": [
      "8\n"
     ]
    }
   ],
   "source": [
    "x=5+3\n",
    "print(x)"
   ]
  },
  {
   "cell_type": "code",
   "execution_count": 5,
   "id": "28844a1a",
   "metadata": {},
   "outputs": [
    {
     "name": "stdout",
     "output_type": "stream",
     "text": [
      "2\n"
     ]
    }
   ],
   "source": [
    "y=6-4\n",
    "print(y)"
   ]
  },
  {
   "cell_type": "markdown",
   "id": "5a6d7c27",
   "metadata": {},
   "source": [
    "#  This a simple arithmetic expression to mutiply then add integers\n"
   ]
  },
  {
   "cell_type": "code",
   "execution_count": 6,
   "id": "6994aaf5",
   "metadata": {},
   "outputs": [
    {
     "data": {
      "text/plain": [
       "17"
      ]
     },
     "execution_count": 6,
     "metadata": {},
     "output_type": "execute_result"
    }
   ],
   "source": [
    "(3*4)+5"
   ]
  },
  {
   "cell_type": "markdown",
   "id": "d80d7a7f",
   "metadata": {},
   "source": [
    "# This will convert 200 minutes to hours by diving by 60"
   ]
  },
  {
   "cell_type": "code",
   "execution_count": 7,
   "id": "6bae9953",
   "metadata": {},
   "outputs": [
    {
     "data": {
      "text/plain": [
       "3.3333333333333335"
      ]
     },
     "execution_count": 7,
     "metadata": {},
     "output_type": "execute_result"
    }
   ],
   "source": [
    "200/60"
   ]
  },
  {
   "cell_type": "markdown",
   "id": "38c19f53",
   "metadata": {},
   "source": [
    "**Objectives:*\n",
    "\n",
    "- List popular languages for Data Science\n",
    "- Introduce Jupyter Notebook as a tool for Data Science\n",
    "- Explain the basics of Python programming language\n",
    "- Discuss Data Types and Data Structures in Python\n",
    "- Introduce key libraries for Data Science such as NumPy, Pandas, and Matplotlib"
   ]
  },
  {
   "cell_type": "markdown",
   "id": "462f358f",
   "metadata": {},
   "source": [
    "## Author\n",
    "Salih Zengertas"
   ]
  },
  {
   "cell_type": "code",
   "execution_count": null,
   "id": "6214f6d4",
   "metadata": {},
   "outputs": [],
   "source": []
  }
 ],
 "metadata": {
  "kernelspec": {
   "display_name": "Python 3 (ipykernel)",
   "language": "python",
   "name": "python3"
  },
  "language_info": {
   "codemirror_mode": {
    "name": "ipython",
    "version": 3
   },
   "file_extension": ".py",
   "mimetype": "text/x-python",
   "name": "python",
   "nbconvert_exporter": "python",
   "pygments_lexer": "ipython3",
   "version": "3.9.13"
  }
 },
 "nbformat": 4,
 "nbformat_minor": 5
}
